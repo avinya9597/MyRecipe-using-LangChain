{
 "cells": [
  {
   "cell_type": "code",
   "execution_count": 1,
   "id": "0dff466e",
   "metadata": {},
   "outputs": [],
   "source": [
    "from langchain.prompts import PromptTemplate\n",
    "from langchain.output_parsers import ResponseSchema, StructuredOutputParser\n",
    "from langchain.chains import LLMChain, SequentialChain"
   ]
  },
  {
   "cell_type": "code",
   "execution_count": 2,
   "id": "9bf5acf5",
   "metadata": {},
   "outputs": [],
   "source": [
    "def build_query_chain(llm):\n",
    "\n",
    "    query_string = ResponseSchema(\n",
    "        name=\"query_string\",\n",
    "        description=\"The string used to query the vector database in order to find the most suitable recipes\"\n",
    "    )\n",
    "\n",
    "    output_parser = StructuredOutputParser.from_response_schemas(\n",
    "        [query_string]\n",
    "    )\n",
    "\n",
    "    response_format = output_parser.get_format_instructions()\n",
    "\n",
    "    prompt = PromptTemplate.from_template(\n",
    "        template=\"\"\"\n",
    "        You are a food advisor. Your task is to pick from a recipes database the recipe that better fits the user preference.\n",
    "        \n",
    "        Take your time to understand the following user preferences:\n",
    "        'food category':{food_category}\n",
    "        'maximum preparation time':{preparation_time}\n",
    "        'necessary ingredients':{included_ingredients}\n",
    "        'excluded ingredients':{excluded_ingredients}\n",
    "        'description':{description}\n",
    "        \n",
    "        Now take your time to gather those preferences and create a string to perform a similarity search on a vector database containing food recipes.\n",
    "        The query must be clear and specific, utilizing relevant features.\n",
    "        \n",
    "        {response_format}\n",
    "        \"\"\"\n",
    "    )\n",
    "\n",
    "    query_chain = LLMChain(llm=llm, prompt=prompt, output_key='query')\n",
    "\n",
    "    chain = SequentialChain(\n",
    "        chains=[query_chain],\n",
    "        input_variables=['food_category', 'preparation_time', 'included_ingredients', 'excluded_ingredients', 'description'] + [ 'response_format'],\n",
    "        output_variables=['query'],\n",
    "        verbose=False\n",
    "    )\n",
    "    \n",
    "    return chain, response_format, output_parser"
   ]
  },
  {
   "cell_type": "code",
   "execution_count": null,
   "id": "fe6d4428",
   "metadata": {},
   "outputs": [],
   "source": []
  }
 ],
 "metadata": {
  "kernelspec": {
   "display_name": "Python 3 (ipykernel)",
   "language": "python",
   "name": "python3"
  },
  "language_info": {
   "codemirror_mode": {
    "name": "ipython",
    "version": 3
   },
   "file_extension": ".py",
   "mimetype": "text/x-python",
   "name": "python",
   "nbconvert_exporter": "python",
   "pygments_lexer": "ipython3",
   "version": "3.11.8"
  }
 },
 "nbformat": 4,
 "nbformat_minor": 5
}
